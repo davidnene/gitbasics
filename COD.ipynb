{
  "nbformat": 4,
  "nbformat_minor": 0,
  "metadata": {
    "colab": {
      "name": "COD.ipynb",
      "provenance": [],
      "collapsed_sections": [],
      "authorship_tag": "ABX9TyPxUrU68SKO4FVK3VZGkdRo",
      "include_colab_link": true
    },
    "kernelspec": {
      "name": "python3",
      "display_name": "Python 3"
    },
    "language_info": {
      "name": "python"
    }
  },
  "cells": [
    {
      "cell_type": "markdown",
      "metadata": {
        "id": "view-in-github",
        "colab_type": "text"
      },
      "source": [
        "<a href=\"https://colab.research.google.com/github/davidnene/gitbasics/blob/master/COD.ipynb\" target=\"_parent\"><img src=\"https://colab.research.google.com/assets/colab-badge.svg\" alt=\"Open In Colab\"/></a>"
      ]
    },
    {
      "cell_type": "code",
      "metadata": {
        "id": "0pwgmSJuWHKP",
        "colab": {
          "base_uri": "https://localhost:8080/"
        },
        "outputId": "1823b066-3774-482c-f4a1-9c3d709cc768"
      },
      "source": [
        "def outer_func(a, b):\n",
        "  def inner_func(c, d):\n",
        "    return c+d\n",
        "  return inner_func(a, b)\n",
        "\n",
        "\n",
        "result = outer_func(10, 19)\n",
        "print(result)"
      ],
      "execution_count": null,
      "outputs": [
        {
          "output_type": "stream",
          "text": [
            "29\n"
          ],
          "name": "stdout"
        }
      ]
    },
    {
      "cell_type": "code",
      "metadata": {
        "colab": {
          "base_uri": "https://localhost:8080/"
        },
        "id": "9Fkdxv5waOVe",
        "outputId": "7869a2cb-f717-4081-8b3b-b626003b86cf"
      },
      "source": [
        "print([i for i in range(1, 300) if i % 3 == 0])"
      ],
      "execution_count": null,
      "outputs": [
        {
          "output_type": "stream",
          "text": [
            "[3, 6, 9, 12, 15, 18, 21, 24, 27, 30, 33, 36, 39, 42, 45, 48, 51, 54, 57, 60, 63, 66, 69, 72, 75, 78, 81, 84, 87, 90, 93, 96, 99, 102, 105, 108, 111, 114, 117, 120, 123, 126, 129, 132, 135, 138, 141, 144, 147, 150, 153, 156, 159, 162, 165, 168, 171, 174, 177, 180, 183, 186, 189, 192, 195, 198, 201, 204, 207, 210, 213, 216, 219, 222, 225, 228, 231, 234, 237, 240, 243, 246, 249, 252, 255, 258, 261, 264, 267, 270, 273, 276, 279, 282, 285, 288, 291, 294, 297]\n"
          ],
          "name": "stdout"
        }
      ]
    },
    {
      "cell_type": "code",
      "metadata": {
        "colab": {
          "base_uri": "https://localhost:8080/",
          "height": 322
        },
        "id": "8KicS3wfakQC",
        "outputId": "06850c68-7dcb-4449-d131-1b6eb099c485"
      },
      "source": [
        "class Person:\n",
        "  def _init_(self,name):\n",
        "    self.name = name\n",
        "\n",
        "\n",
        "  def person_details(self):\n",
        "    print(self.name)\n",
        "\n",
        "obj=Person()\n",
        "obj.person_details()"
      ],
      "execution_count": null,
      "outputs": [
        {
          "output_type": "error",
          "ename": "AttributeError",
          "evalue": "ignored",
          "traceback": [
            "\u001b[0;31m---------------------------------------------------------------------------\u001b[0m",
            "\u001b[0;31mAttributeError\u001b[0m                            Traceback (most recent call last)",
            "\u001b[0;32m<ipython-input-3-8a574fa57cc9>\u001b[0m in \u001b[0;36m<module>\u001b[0;34m()\u001b[0m\n\u001b[1;32m      8\u001b[0m \u001b[0;34m\u001b[0m\u001b[0m\n\u001b[1;32m      9\u001b[0m \u001b[0mobj\u001b[0m\u001b[0;34m=\u001b[0m\u001b[0mPerson\u001b[0m\u001b[0;34m(\u001b[0m\u001b[0;34m)\u001b[0m\u001b[0;34m\u001b[0m\u001b[0;34m\u001b[0m\u001b[0m\n\u001b[0;32m---> 10\u001b[0;31m \u001b[0mobj\u001b[0m\u001b[0;34m.\u001b[0m\u001b[0mperson_details\u001b[0m\u001b[0;34m(\u001b[0m\u001b[0;34m)\u001b[0m\u001b[0;34m\u001b[0m\u001b[0;34m\u001b[0m\u001b[0m\n\u001b[0m",
            "\u001b[0;32m<ipython-input-3-8a574fa57cc9>\u001b[0m in \u001b[0;36mperson_details\u001b[0;34m(self)\u001b[0m\n\u001b[1;32m      5\u001b[0m \u001b[0;34m\u001b[0m\u001b[0m\n\u001b[1;32m      6\u001b[0m   \u001b[0;32mdef\u001b[0m \u001b[0mperson_details\u001b[0m\u001b[0;34m(\u001b[0m\u001b[0mself\u001b[0m\u001b[0;34m)\u001b[0m\u001b[0;34m:\u001b[0m\u001b[0;34m\u001b[0m\u001b[0;34m\u001b[0m\u001b[0m\n\u001b[0;32m----> 7\u001b[0;31m     \u001b[0mprint\u001b[0m\u001b[0;34m(\u001b[0m\u001b[0mself\u001b[0m\u001b[0;34m.\u001b[0m\u001b[0mname\u001b[0m\u001b[0;34m)\u001b[0m\u001b[0;34m\u001b[0m\u001b[0;34m\u001b[0m\u001b[0m\n\u001b[0m\u001b[1;32m      8\u001b[0m \u001b[0;34m\u001b[0m\u001b[0m\n\u001b[1;32m      9\u001b[0m \u001b[0mobj\u001b[0m\u001b[0;34m=\u001b[0m\u001b[0mPerson\u001b[0m\u001b[0;34m(\u001b[0m\u001b[0;34m)\u001b[0m\u001b[0;34m\u001b[0m\u001b[0;34m\u001b[0m\u001b[0m\n",
            "\u001b[0;31mAttributeError\u001b[0m: 'Person' object has no attribute 'name'"
          ]
        }
      ]
    },
    {
      "cell_type": "code",
      "metadata": {
        "colab": {
          "base_uri": "https://localhost:8080/"
        },
        "id": "zCIUc_gEa8y-",
        "outputId": "443de2cd-b0eb-4885-a8bc-8e3816108542"
      },
      "source": [
        "import re\n",
        "def find_date(text: str) ->str:\n",
        "  pattern = \"\\d\"\n",
        "  date = re.findall(pattern, text)\n",
        "  return date\n",
        "\n",
        "print(find_date('I saw her on the 15th JUNE 2021'))"
      ],
      "execution_count": null,
      "outputs": [
        {
          "output_type": "stream",
          "text": [
            "['1', '5', '2', '0', '2', '1']\n"
          ],
          "name": "stdout"
        }
      ]
    },
    {
      "cell_type": "code",
      "metadata": {
        "colab": {
          "base_uri": "https://localhost:8080/"
        },
        "id": "iVnFKK1Tb0FQ",
        "outputId": "9d7c1fe8-8b0c-4484-a803-d5f71dc8fb56"
      },
      "source": [
        "print(re.split(\"(10)+\", \"I am going to be 10x more efficient\"))"
      ],
      "execution_count": null,
      "outputs": [
        {
          "output_type": "stream",
          "text": [
            "['I am going to be ', '10', 'x more efficient']\n"
          ],
          "name": "stdout"
        }
      ]
    },
    {
      "cell_type": "code",
      "metadata": {
        "colab": {
          "base_uri": "https://localhost:8080/"
        },
        "id": "zpgz1_8fb8yU",
        "outputId": "1e99269d-4c95-48a1-8535-b0c032d593c6"
      },
      "source": [
        "def transformer(n):\n",
        "  def multiplier(x):\n",
        "    return n * x**2 + n**2 * x +1\n",
        "  return multiplier\n",
        "\n",
        "polyt = transformer(2)\n",
        "print(polyt(3))"
      ],
      "execution_count": null,
      "outputs": [
        {
          "output_type": "stream",
          "text": [
            "31\n"
          ],
          "name": "stdout"
        }
      ]
    },
    {
      "cell_type": "code",
      "metadata": {
        "colab": {
          "base_uri": "https://localhost:8080/"
        },
        "id": "sfZ02lBdcYh_",
        "outputId": "c142c3af-bc11-42da-dc13-96eb37ef9cd6"
      },
      "source": [
        "def print_dict(**kwargs):\n",
        "  for i in kwargs:\n",
        "    print(i)\n",
        "\n",
        "print_dict(emp=\"Brian\", salary=10000)\n"
      ],
      "execution_count": null,
      "outputs": [
        {
          "output_type": "stream",
          "text": [
            "emp\n",
            "salary\n"
          ],
          "name": "stdout"
        }
      ]
    },
    {
      "cell_type": "code",
      "metadata": {
        "colab": {
          "base_uri": "https://localhost:8080/",
          "height": 218
        },
        "id": "o7Yf-TSmcsX4",
        "outputId": "3cf6a827-0dda-418b-ddb1-441547a1dd1d"
      },
      "source": [
        "class Applicant():\n",
        "\n",
        "  def _init_(self,shool_name):\n",
        "    self.school_name = school_name\n",
        "\n",
        "  def hello_student(self, name=None):\n",
        "    #greet a student\n",
        "    if name  is None:\n",
        "      msg = \" Welcome to %s! This is Python Class: %s \"\n",
        "      print(msg % (self.school_name, self._class_._name_))\n",
        "    else:\n",
        "      ms = 'Hello applicant %s to %s! This is python class: %s'\n",
        "      print(msg % (name, self.school_name, self._class_._name_))\n",
        "\n",
        "class Training(Applicant):\n",
        "  def _init_(self,name):\n",
        "    super()._init_(name)\n",
        "\n",
        "s = Training('10 Academy')\n",
        "s.hello_student()"
      ],
      "execution_count": null,
      "outputs": [
        {
          "output_type": "error",
          "ename": "TypeError",
          "evalue": "ignored",
          "traceback": [
            "\u001b[0;31m---------------------------------------------------------------------------\u001b[0m",
            "\u001b[0;31mTypeError\u001b[0m                                 Traceback (most recent call last)",
            "\u001b[0;32m<ipython-input-10-fde6720d30ff>\u001b[0m in \u001b[0;36m<module>\u001b[0;34m()\u001b[0m\n\u001b[1;32m     17\u001b[0m     \u001b[0msuper\u001b[0m\u001b[0;34m(\u001b[0m\u001b[0;34m)\u001b[0m\u001b[0;34m.\u001b[0m\u001b[0m_init_\u001b[0m\u001b[0;34m(\u001b[0m\u001b[0mname\u001b[0m\u001b[0;34m)\u001b[0m\u001b[0;34m\u001b[0m\u001b[0;34m\u001b[0m\u001b[0m\n\u001b[1;32m     18\u001b[0m \u001b[0;34m\u001b[0m\u001b[0m\n\u001b[0;32m---> 19\u001b[0;31m \u001b[0ms\u001b[0m \u001b[0;34m=\u001b[0m \u001b[0mTraining\u001b[0m\u001b[0;34m(\u001b[0m\u001b[0;34m'10 Academy'\u001b[0m\u001b[0;34m)\u001b[0m\u001b[0;34m\u001b[0m\u001b[0;34m\u001b[0m\u001b[0m\n\u001b[0m\u001b[1;32m     20\u001b[0m \u001b[0ms\u001b[0m\u001b[0;34m.\u001b[0m\u001b[0mhello_student\u001b[0m\u001b[0;34m(\u001b[0m\u001b[0;34m)\u001b[0m\u001b[0;34m\u001b[0m\u001b[0;34m\u001b[0m\u001b[0m\n",
            "\u001b[0;31mTypeError\u001b[0m: Training() takes no arguments"
          ]
        }
      ]
    },
    {
      "cell_type": "code",
      "metadata": {
        "colab": {
          "base_uri": "https://localhost:8080/"
        },
        "id": "aEdGkeaVd-jy",
        "outputId": "fee735b1-3596-4c69-892c-ec1d80a881da"
      },
      "source": [
        "a = map(str, [10, 11])\n",
        "print(list(a), type(a))"
      ],
      "execution_count": null,
      "outputs": [
        {
          "output_type": "stream",
          "text": [
            "['10', '11'] <class 'map'>\n"
          ],
          "name": "stdout"
        }
      ]
    },
    {
      "cell_type": "code",
      "metadata": {
        "colab": {
          "base_uri": "https://localhost:8080/"
        },
        "id": "HIPDudfme04b",
        "outputId": "4e965b5f-d057-4c01-d64b-e5798ba213f5"
      },
      "source": [
        "import re\n",
        "\n",
        "def sum_numbers(sentence):\n",
        "  pattern = \"\\d\"\n",
        "  numbers = re.findall(pattern, sentence)\n",
        "  total = 0\n",
        "\n",
        "  for i in numbers:\n",
        "    total += float(i)\n",
        "\n",
        "  return total\n",
        "\n",
        "print(sum_numbers(\"I have 12 A's 16 B's and 10 C's\"))"
      ],
      "execution_count": null,
      "outputs": [
        {
          "output_type": "stream",
          "text": [
            "11.0\n"
          ],
          "name": "stdout"
        }
      ]
    },
    {
      "cell_type": "code",
      "metadata": {
        "colab": {
          "base_uri": "https://localhost:8080/"
        },
        "id": "uVrvk9D9fZNE",
        "outputId": "15328a42-2c74-44d1-a915-ff28a2686827"
      },
      "source": [
        "#2\n",
        "def integer_generator(limit):\n",
        "  n = 0\n",
        "  while n < limit:\n",
        "    n += 1\n",
        "    yield n\n",
        "\n",
        "int_gen = integer_generator(10)\n",
        "print(list(int_gen))"
      ],
      "execution_count": null,
      "outputs": [
        {
          "output_type": "stream",
          "text": [
            "[1, 2, 3, 4, 5, 6, 7, 8, 9, 10]\n"
          ],
          "name": "stdout"
        }
      ]
    },
    {
      "cell_type": "code",
      "metadata": {
        "id": "B4Vhwpl5fu6A"
      },
      "source": [
        ""
      ],
      "execution_count": null,
      "outputs": []
    }
  ]
}